{
 "cells": [
  {
   "cell_type": "code",
   "execution_count": null,
   "id": "5ec8ed90-f2a9-4ba4-9ecf-b08a084ede1d",
   "metadata": {},
   "outputs": [],
   "source": [
    "def count_keywords(text, keywords):\n",
    "    \"\"\"Count the occurrences of each keyword in the given text.\n",
    "    \n",
    "    Parameters\n",
    "    ----------\n",
    "    text : str\n",
    "        The text in which to count keywords.\n",
    "    keywords : list\n",
    "        A list of keywords to count in the text.\n",
    "\n",
    "    Returns\n",
    "    -------\n",
    "    dict\n",
    "        A dictionary where keys are keywords and values are the counts of those keywords in the text.\n",
    "\n",
    "    Examples\n",
    "    --------\n",
    "    >>> from wordwright.wordwright import count_keywords\n",
    "    >>> test = count_keywords(\"I like cheese.\", [\"cheese\"])\n",
    "    \"\"\"\n",
    "    if not isinstance(text, str):\n",
    "        raise ValueError('Input text must be a string!')\n",
    "\n",
    "    if not isinstance(keywords, list):\n",
    "        raise ValueError('Keywords must be provided in a list!')\n",
    "\n",
    "    "
   ]
  }
 ],
 "metadata": {
  "kernelspec": {
   "display_name": "Python [conda env:573]",
   "language": "python",
   "name": "conda-env-573-py"
  },
  "language_info": {
   "codemirror_mode": {
    "name": "ipython",
    "version": 3
   },
   "file_extension": ".py",
   "mimetype": "text/x-python",
   "name": "python",
   "nbconvert_exporter": "python",
   "pygments_lexer": "ipython3",
   "version": "3.11.6"
  }
 },
 "nbformat": 4,
 "nbformat_minor": 5
}
