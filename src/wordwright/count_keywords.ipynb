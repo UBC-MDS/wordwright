{
 "cells": [
  {
   "cell_type": "code",
   "execution_count": 22,
   "id": "5ec8ed90-f2a9-4ba4-9ecf-b08a084ede1d",
   "metadata": {},
   "outputs": [],
   "source": [
    "from preprocessing import clean_text\n",
    "from collections import Counter\n",
    "\n",
    "def count_keywords(text, keywords):\n",
    "    \"\"\"Count the occurrences of each keyword in the given text.\n",
    "    \n",
    "    Parameters\n",
    "    ----------\n",
    "    text : str\n",
    "        The text in which to count keywords.\n",
    "    keywords : list\n",
    "        A list of keywords to count in the text.\n",
    "\n",
    "    Returns\n",
    "    -------\n",
    "    dict\n",
    "        A dictionary where keys are keywords and values are the counts of those keywords in the text.\n",
    "\n",
    "    Examples\n",
    "    --------\n",
    "    >>> from wordwright.wordwright import count_keywords\n",
    "    >>> test = count_keywords(\"I like cheese.\", [\"cheese\"])\n",
    "    \"\"\"\n",
    "    if not isinstance(text, str):\n",
    "        raise ValueError('Input text must be a string!')\n",
    "\n",
    "    if not isinstance(keywords, list):\n",
    "        raise ValueError('Keywords must be provided in a list!')\n",
    "\n",
    "    for keyword in keywords:\n",
    "        if not isinstance(keyword, str):\n",
    "            raise ValueError('All keywords must be presented in a string format!')\n",
    "\n",
    "    clean = clean_text(text)\n",
    "    words = text.split()\n",
    "    word_counts = Counter(words)\n",
    "\n",
    "    print(word_counts)\n",
    "\n",
    "    keyword_counts = {keyword:(word_counts[keyword] if keyword in word_counts else 0) for keyword in keywords}\n",
    "    \n",
    "    return keyword_counts"
   ]
  },
  {
   "cell_type": "code",
   "execution_count": 23,
   "id": "d5591c32-7af2-4e0c-b810-c6ab87645dec",
   "metadata": {},
   "outputs": [
    {
     "name": "stdout",
     "output_type": "stream",
     "text": [
      "Counter({'cheese,': 4, 'nuts,': 1, 'bananas,': 1, 'apples,': 1, 'manzana,': 1, 'what': 1})\n"
     ]
    },
    {
     "data": {
      "text/plain": [
       "{'nuts': 0}"
      ]
     },
     "execution_count": 23,
     "metadata": {},
     "output_type": "execute_result"
    }
   ],
   "source": [
    "count_keywords('cheese, cheese, cheese, cheese, nuts, bananas, apples, manzana, what', ['nuts'])"
   ]
  },
  {
   "cell_type": "code",
   "execution_count": null,
   "id": "0b90eb5b-843d-4e09-8e58-870574a4f3f4",
   "metadata": {},
   "outputs": [],
   "source": []
  }
 ],
 "metadata": {
  "kernelspec": {
   "display_name": "Python [conda env:573]",
   "language": "python",
   "name": "conda-env-573-py"
  },
  "language_info": {
   "codemirror_mode": {
    "name": "ipython",
    "version": 3
   },
   "file_extension": ".py",
   "mimetype": "text/x-python",
   "name": "python",
   "nbconvert_exporter": "python",
   "pygments_lexer": "ipython3",
   "version": "3.11.6"
  }
 },
 "nbformat": 4,
 "nbformat_minor": 5
}
