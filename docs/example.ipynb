{
 "cells": [
  {
   "cell_type": "markdown",
   "id": "fcbb831d-40f4-4e1e-ad3b-6d458a60981e",
   "metadata": {},
   "source": [
    "# Wordwright Tutorial\n",
    "\n",
    "In today's world, text is omnipresent and serves as more than just a form of communication. From the briefest tweets to in-depth blog posts, from academic papers to business emails, our digital world is full of textual content. The ability to read, analyze, and derive meaning from the written content is crucial.\n",
    "\n",
    "In this vignette, we demonstrate how `wordwright` can be used to analyze customer reviews similar to those on rental platforms like Airbnb. Such reviews, often submitted post-visit, are useful in helping hosts enhance their accommodations and services. These reviews often reveal aspects not covered in descriptions, like bedding comfort or local tips that make a stay special. With `wordwright`, users can efficiently extract key features, gaining insights that drive informed decision-making and service improvement.\n",
    "\n",
    "## Imports"
   ]
  },
  {
   "cell_type": "code",
   "execution_count": 1,
   "id": "c21f029a-380b-40c3-b8f2-6bc056d7a990",
   "metadata": {},
   "outputs": [],
   "source": [
    "from wordwright.preprocessing import load_text\n",
    "from wordwright.preprocessing import clean_text\n",
    "from wordwright.language_detection import language_detection\n",
    "from wordwright.count_sentences import count_sentences\n",
    "from wordwright.word_frequency import frequent_words\n",
    "from wordwright.count_keywords import count_keywords"
   ]
  },
  {
   "cell_type": "markdown",
   "id": "f6fc9a6b-0240-4a81-9d19-1fec7476caa9",
   "metadata": {},
   "source": [
    "## Getting Started with Text Files\n",
    "We compose two customer reviews of varying lengths and details and save them as text files."
   ]
  },
  {
   "cell_type": "code",
   "execution_count": 2,
   "id": "19d96b56-636d-42b9-b23a-5693e7b1b877",
   "metadata": {},
   "outputs": [],
   "source": [
    "# Long positive review of a city apartment\n",
    "review1 = \"\"\"Our stay at Skyline Plaza was truly exceptional. The apartment offered \n",
    "breathtaking views of the city skyline, making every morning a luxurious experience. \n",
    "Inside, modern amenities like a fully-equipped kitchen, high-speed internet, \n",
    "and a smart TV provided exceptional comfort. The spacious bedrooms, each with \n",
    "ultra-comfortable beds, ensured restful nights after exploring the city's \n",
    "breathtaking sights. Located at the heart of the city, the apartment's proximity \n",
    "to public transport, diverse restaurants, and shops was incredibly convenient. \n",
    "Our host was wonderfully accommodating, providing a detailed city guide and \n",
    "personal recommendations for dining with views of the skyline. For anyone seeking \n",
    "a mix of modern luxury and convenient city living, this apartment is a \n",
    "perfect choice. Its luxurious amenities and prime location make it a \n",
    "standout choice for an exceptional city experience.\n",
    "\"\"\"\n",
    "\n",
    "# Short positive review of a cozy cottage\n",
    "review2 = \"\"\"Cozy Cottage was a quiet, charming escape from the busy city life. \n",
    "The garden was delightful, and the location was quiet yet convenient. \n",
    "A perfect weekend getaway! Highly recommend!\n",
    "\"\"\"\n",
    "\n",
    "# Writing the reviews to text files\n",
    "filenames = [\"longer_review.txt\",  \n",
    "             \"shorter_review.txt\"]\n",
    "reviews = [review1, review2]\n",
    "\n",
    "for filename, review in zip(filenames, reviews):\n",
    "    with open(filename, \"w\") as file:\n",
    "        file.write(review)"
   ]
  },
  {
   "cell_type": "markdown",
   "id": "9434195f-885a-4f62-b45f-6f42cc2075ad",
   "metadata": {},
   "source": [
    "## Function 1: Loading Text Data\n",
    "The `load_text` function reads the content of a text file without modification. "
   ]
  },
  {
   "cell_type": "code",
   "execution_count": 3,
   "id": "adae12f0-ebf5-4e8e-b4ee-fe102011b941",
   "metadata": {},
   "outputs": [
    {
     "name": "stdout",
     "output_type": "stream",
     "text": [
      "Our stay at Skyline Plaza was truly exceptional. The apartment offered \n",
      "breathtaking views of the city skyline, making every morning a luxurious experience. \n",
      "Inside, modern amenities like a fully-equipped kitchen, high-speed internet, \n",
      "and a smart TV provided exceptional comfort. The spacious bedrooms, each with \n",
      "ultra-comfortable beds, ensured restful nights after exploring the city's \n",
      "breathtaking sights. Located at the heart of the city, the apartment's proximity \n",
      "to public transport, diverse restaurants, and shops was incredibly convenient. \n",
      "Our host was wonderfully accommodating, providing a detailed city guide and \n",
      "personal recommendations for dining with views of the skyline. For anyone seeking \n",
      "a mix of modern luxury and convenient city living, this apartment is a \n",
      "perfect choice. Its luxurious amenities and prime location make it a \n",
      "standout choice for an exceptional city experience.\n",
      "\n"
     ]
    }
   ],
   "source": [
    "raw_longer_review = load_text(\"longer_review.txt\")\n",
    "print(raw_longer_review)"
   ]
  },
  {
   "cell_type": "code",
   "execution_count": 4,
   "id": "bea63b8a-35b5-47c4-ac61-0582efa1c3aa",
   "metadata": {},
   "outputs": [
    {
     "name": "stdout",
     "output_type": "stream",
     "text": [
      "Cozy Cottage was a quiet, charming escape from the busy city life. \n",
      "The garden was delightful, and the location was quiet yet convenient. \n",
      "A perfect weekend getaway! Highly recommend!\n",
      "\n"
     ]
    }
   ],
   "source": [
    "raw_shorter_review = load_text(\"shorter_review.txt\")\n",
    "print(raw_shorter_review)"
   ]
  },
  {
   "cell_type": "markdown",
   "id": "43f72327-b1d9-4309-a411-75af336ee3a5",
   "metadata": {},
   "source": [
    "## Function 2: Cleaning the Text\n",
    "The `clean_text` function removes punctuation and whitespace and converts all words to lowercase, removing formatting inconsistencies and ensuring text is uniform for analysis (as demonstrated in later sections)."
   ]
  },
  {
   "cell_type": "code",
   "execution_count": 5,
   "id": "3ba7f0bc-f34a-48f1-8107-5b54e0dcef93",
   "metadata": {},
   "outputs": [
    {
     "name": "stdout",
     "output_type": "stream",
     "text": [
      "cozy cottage was a quiet charming escape from the busy city life the garden was delightful and the location was quiet yet convenient a perfect weekend getaway highly recommend\n"
     ]
    }
   ],
   "source": [
    "cleaned_shorter_review = clean_text(raw_shorter_review)\n",
    "print(cleaned_shorter_review)"
   ]
  },
  {
   "cell_type": "markdown",
   "id": "ce017743-93b4-4498-a244-605de4d2e6a0",
   "metadata": {},
   "source": [
    "Our `clean_text` function preserves the nuances of the English language. For example, apostrophes that are part of contractions or possessive forms—like in \"city's\"—is maintained as shown below. By doing so, our analysis respects the linguistic integrity of the text and retains its original meaning."
   ]
  },
  {
   "cell_type": "code",
   "execution_count": 6,
   "id": "5e6a1d53-a123-422c-a2c6-ceaa055ac9f0",
   "metadata": {},
   "outputs": [
    {
     "name": "stdout",
     "output_type": "stream",
     "text": [
      "our stay at skyline plaza was truly exceptional the apartment offered breathtaking views of the city skyline making every morning a luxurious experience inside modern amenities like a fullyequipped kitchen highspeed internet and a smart tv provided exceptional comfort the spacious bedrooms each with ultracomfortable beds ensured restful nights after exploring the city's breathtaking sights located at the heart of the city the apartment's proximity to public transport diverse restaurants and shops was incredibly convenient our host was wonderfully accommodating providing a detailed city guide and personal recommendations for dining with views of the skyline for anyone seeking a mix of modern luxury and convenient city living this apartment is a perfect choice its luxurious amenities and prime location make it a standout choice for an exceptional city experience\n"
     ]
    }
   ],
   "source": [
    "cleaned_longer_review = clean_text(raw_longer_review)\n",
    "print(cleaned_longer_review)"
   ]
  },
  {
   "cell_type": "markdown",
   "id": "0c695034-ce42-4323-9be8-4d39c7bef929",
   "metadata": {},
   "source": [
    "## Function 3: Detecting Language\n",
    "\n",
    "The `language_detection` function discerns if text is in English. Language detection is a vital feature for global platforms like Airbnb, which receive reviews in multiple languages. Since text analytical tools are typically language-specific, applying an English-focused tool on non-English text can lead to inaccurate results.  \n",
    "\n",
    "This function takes a string as input, returning \"English\" for English text, \"Not English\" for other languages, and \"Language detection error\" in case of detection issues. Upon detecting English, we can proceed with the subsequent text analysis."
   ]
  },
  {
   "cell_type": "code",
   "execution_count": 7,
   "id": "d3a9e062-ea6a-4ae9-b0eb-f3877aa4a335",
   "metadata": {},
   "outputs": [
    {
     "data": {
      "text/plain": [
       "'English'"
      ]
     },
     "execution_count": 7,
     "metadata": {},
     "output_type": "execute_result"
    }
   ],
   "source": [
    "language_detection(raw_shorter_review)"
   ]
  },
  {
   "cell_type": "markdown",
   "id": "373394a9-5292-4d8a-a79c-e18e59bec502",
   "metadata": {},
   "source": [
    "If the text is identified as non-English, such as Spanish, the function will return \"Not English\"."
   ]
  },
  {
   "cell_type": "code",
   "execution_count": 8,
   "id": "71786a97-e820-4bda-82c1-a1228d492860",
   "metadata": {},
   "outputs": [
    {
     "data": {
      "text/plain": [
       "'Not English'"
      ]
     },
     "execution_count": 8,
     "metadata": {},
     "output_type": "execute_result"
    }
   ],
   "source": [
    "review_in_spanish = \"\"\"\n",
    "La estancia fue encantadora, con un servicio impecable, \n",
    "un ambiente acogedor y una ubicación privilegiada que \n",
    "superó todas las expectativas. ¡Una experiencia \n",
    "verdaderamente memorable!\n",
    "\"\"\"\n",
    "language_detection(review_in_spanish)"
   ]
  },
  {
   "cell_type": "markdown",
   "id": "d0f18a2a-1ee7-449f-845a-1c21baa881e5",
   "metadata": {},
   "source": [
    "## Function 4: Counting Sentences\n",
    "\n",
    "The `count_sentence` function determines the number of sentences in a given text. Total sentence count can serve as a useful measure of customer engagement, with a greater number of sentences typically reflecting deeper interaction. It also helps estimate information density, with higher sentence counts indicating more comprehensive feedback.\n",
    "\n",
    "Specifically, this function enables users to specify punctuation marks—such as periods, exclamation points, and question marks—that indicate sentence breaks, thus determining the total sentence count."
   ]
  },
  {
   "cell_type": "code",
   "execution_count": 9,
   "id": "bbf8c5f1-b6d2-4d0f-a840-3099243bbef2",
   "metadata": {},
   "outputs": [
    {
     "name": "stdout",
     "output_type": "stream",
     "text": [
      "There are 8 sentence(s), which is splited by ['.', '!'].\n"
     ]
    }
   ],
   "source": [
    "#seperate each sentence using period and exclamation mark\n",
    "customer_1 = count_sentences(raw_longer_review, [\".\", \"!\"]) "
   ]
  },
  {
   "cell_type": "code",
   "execution_count": 10,
   "id": "25af5868-739a-45ad-b8f8-47e0153db359",
   "metadata": {},
   "outputs": [
    {
     "name": "stdout",
     "output_type": "stream",
     "text": [
      "There are 4 sentence(s), which is splited by ['.', '!'].\n"
     ]
    }
   ],
   "source": [
    "#seperate each sentence using period and exclamation mark\n",
    "customer_2 = count_sentences(raw_shorter_review, [\".\", \"!\"]) "
   ]
  },
  {
   "cell_type": "markdown",
   "id": "f17da206-e133-46d6-9d4b-ba0bf4370d08",
   "metadata": {},
   "source": [
    "## Function 5: Analyzing Word Frequency\n",
    "\n",
    "### Integrated Text Cleaning\n",
    "The `frequent_words` function has incorporated text cleaning within its process. This means that users do not need to separately clean their text with the `clean_text` function before analysis; `frequent_words` will handle both cleaning and word frequency analysis in one step. Specifically, the `frequent_words` function counts the occurrences of each unique word."
   ]
  },
  {
   "cell_type": "code",
   "execution_count": 11,
   "id": "e3ea3867-0b34-48d7-9bca-e9ad0a687c64",
   "metadata": {},
   "outputs": [
    {
     "data": {
      "text/plain": [
       "Counter({'was': 3,\n",
       "         'the': 3,\n",
       "         'a': 2,\n",
       "         'quiet': 2,\n",
       "         'cozy': 1,\n",
       "         'cottage': 1,\n",
       "         'charming': 1,\n",
       "         'escape': 1,\n",
       "         'from': 1,\n",
       "         'busy': 1,\n",
       "         'city': 1,\n",
       "         'life': 1,\n",
       "         'garden': 1,\n",
       "         'delightful': 1,\n",
       "         'and': 1,\n",
       "         'location': 1,\n",
       "         'yet': 1,\n",
       "         'convenient': 1,\n",
       "         'perfect': 1,\n",
       "         'weekend': 1,\n",
       "         'getaway': 1,\n",
       "         'highly': 1,\n",
       "         'recommend': 1})"
      ]
     },
     "execution_count": 11,
     "metadata": {},
     "output_type": "execute_result"
    }
   ],
   "source": [
    "frequent_words(raw_shorter_review)"
   ]
  },
  {
   "cell_type": "markdown",
   "id": "266f1a3c-76eb-4fbb-8fb4-03cee58e027d",
   "metadata": {},
   "source": [
    "### Stopwords Filtering\n",
    "In text analysis, the frequency of words can reveal a lot about the content. However, not all words carry the same weight in conveying meaning. This is where the `frequent_words` function becomes particularly valuable.\n",
    "\n",
    "**User-defined Stopwords List**  \n",
    "Stopwords are commonly used words in any language, like \"the,\" \"is,\" and \"in,\" which may not add significant meaning. The `frequent_words` function, allowing for the removal of user-defined stopwords, focuses on more meaningful words."
   ]
  },
  {
   "cell_type": "code",
   "execution_count": 12,
   "id": "63beee5d-5076-41ae-a8fa-7de902c06f43",
   "metadata": {},
   "outputs": [
    {
     "data": {
      "text/plain": [
       "Counter({'quiet': 2,\n",
       "         'cozy': 1,\n",
       "         'cottage': 1,\n",
       "         'charming': 1,\n",
       "         'escape': 1,\n",
       "         'busy': 1,\n",
       "         'city': 1,\n",
       "         'life': 1,\n",
       "         'garden': 1,\n",
       "         'delightful': 1,\n",
       "         'location': 1,\n",
       "         'convenient': 1,\n",
       "         'perfect': 1,\n",
       "         'weekend': 1,\n",
       "         'getaway': 1,\n",
       "         'highly': 1,\n",
       "         'recommend': 1})"
      ]
     },
     "execution_count": 12,
     "metadata": {},
     "output_type": "execute_result"
    }
   ],
   "source": [
    "user_stopwords = [\"the\", \"a\", \"is\", \"was\", \"and\", \"yet\", \"but\", \n",
    "                  \"from\", \"to\", \"in\" \"at\", \"on\"]\n",
    "frequent_words(raw_shorter_review, stopwords=user_stopwords)"
   ]
  },
  {
   "cell_type": "markdown",
   "id": "f192a647-f45f-4778-9ac2-51dba6095a83",
   "metadata": {},
   "source": [
    "**Leveraging NLTK's Comprehensive Stopwords List**  \n",
    "For a more thorough cleaning of our text data, we can utilize the Natural Language Toolkit (NLTK)(Loper & Bird 2002), a leading package to work with human language data (see details [here](https://www.nltk.org/)). NLTK provides an extensive list of stopwords commonly used in English."
   ]
  },
  {
   "cell_type": "code",
   "execution_count": 13,
   "id": "129c2064-ad63-400c-a3b0-63fd5796b376",
   "metadata": {},
   "outputs": [],
   "source": [
    "# Imports NLTK stopwords and creates a list of English stopwords\n",
    "import nltk\n",
    "from nltk.corpus import stopwords\n",
    "nltk.download('stopwords', quiet=True)\n",
    "nltk_stopwords = stopwords.words('english')"
   ]
  },
  {
   "cell_type": "code",
   "execution_count": 14,
   "id": "3a2fa50d-c7a4-4c03-a13e-ea43fc91329f",
   "metadata": {},
   "outputs": [
    {
     "data": {
      "text/plain": [
       "Counter({'quiet': 2,\n",
       "         'cozy': 1,\n",
       "         'cottage': 1,\n",
       "         'charming': 1,\n",
       "         'escape': 1,\n",
       "         'busy': 1,\n",
       "         'city': 1,\n",
       "         'life': 1,\n",
       "         'garden': 1,\n",
       "         'delightful': 1,\n",
       "         'location': 1,\n",
       "         'yet': 1,\n",
       "         'convenient': 1,\n",
       "         'perfect': 1,\n",
       "         'weekend': 1,\n",
       "         'getaway': 1,\n",
       "         'highly': 1,\n",
       "         'recommend': 1})"
      ]
     },
     "execution_count": 14,
     "metadata": {},
     "output_type": "execute_result"
    }
   ],
   "source": [
    "frequent_words(raw_shorter_review, stopwords=nltk_stopwords)"
   ]
  },
  {
   "cell_type": "markdown",
   "id": "d7de4010-9830-4ed5-a612-63dc84060273",
   "metadata": {},
   "source": [
    "**Extending and Customizing Stopwords List**   \n",
    "In scenarios where the default NLTK stopwords may not be sufficient, users can extend the NLTK stopwords list with their own set of words."
   ]
  },
  {
   "cell_type": "code",
   "execution_count": 15,
   "id": "ce127457-1159-4e04-8e65-32965acbf8d2",
   "metadata": {},
   "outputs": [
    {
     "data": {
      "text/plain": [
       "Counter({'quiet': 2,\n",
       "         'cozy': 1,\n",
       "         'cottage': 1,\n",
       "         'charming': 1,\n",
       "         'escape': 1,\n",
       "         'busy': 1,\n",
       "         'garden': 1,\n",
       "         'delightful': 1,\n",
       "         'convenient': 1,\n",
       "         'perfect': 1,\n",
       "         'getaway': 1,\n",
       "         'highly': 1,\n",
       "         'recommend': 1})"
      ]
     },
     "execution_count": 15,
     "metadata": {},
     "output_type": "execute_result"
    }
   ],
   "source": [
    "# Start with the default NLTK stopwords\n",
    "custom_stopwords = set(nltk_stopwords)\n",
    "\n",
    "# Define additional stopwords that are irrelevant to the analysis\n",
    "additional_stopwords = {'weekend', 'location', 'life', 'city', 'yet'}\n",
    "\n",
    "# Combine the default stopwords with the additional ones\n",
    "custom_stopwords.update(additional_stopwords)\n",
    "\n",
    "# Ensure that the custom stopwords list is unique\n",
    "custom_stopwords = list(set(custom_stopwords))\n",
    "\n",
    "# Display the most common words excluding the customized stopwords\n",
    "frequent_words(raw_shorter_review, stopwords=custom_stopwords)"
   ]
  },
  {
   "cell_type": "markdown",
   "id": "0c80e6ee-d328-47fd-91a8-a3f38356b4e8",
   "metadata": {},
   "source": [
    "### Displaying the Most Frequent Words\n",
    "The `frequent_words` function returns a `Counter` object (see details [here](https://docs.python.org/3/library/collections.html#collections.Counter)), a specialized dictionary from Python's `collections` module.\n",
    "One useful method available on a Counter object is `most_common()`(see details of the function [here](https://docs.python.org/3/library/collections.html#collections.Counter.most_common)). This method returns a list of the top N most frequent items and their counts, where N is the number specified by the user. This function is particularly handy when you want to focus on the most relevant words."
   ]
  },
  {
   "cell_type": "code",
   "execution_count": 16,
   "id": "f85b20bd-ec9c-47f7-8041-ba43fd1b22df",
   "metadata": {},
   "outputs": [
    {
     "data": {
      "text/plain": [
       "[('city', 5),\n",
       " ('skyline', 3),\n",
       " ('exceptional', 3),\n",
       " ('apartment', 2),\n",
       " ('breathtaking', 2),\n",
       " ('views', 2),\n",
       " ('luxurious', 2),\n",
       " ('experience', 2),\n",
       " ('modern', 2),\n",
       " ('amenities', 2)]"
      ]
     },
     "execution_count": 16,
     "metadata": {},
     "output_type": "execute_result"
    }
   ],
   "source": [
    "top_10_long_pos_review = frequent_words(raw_longer_review, \n",
    "                                        stopwords=nltk_stopwords\n",
    "                                       ).most_common(10)\n",
    "top_10_long_pos_review"
   ]
  },
  {
   "cell_type": "markdown",
   "id": "0a955824-fb5c-4284-a4dd-3c6362f945e1",
   "metadata": {},
   "source": [
    "## Function 6: Counting Keywords\n",
    "\n",
    "The `count_keywords` function searches for specific words in a text, serving as a practical tool for filtering content. For instance, by identifying the presence and frequency of particular keywords, users can select relevant texts for deeper analysis or exclude those that do not meet their criteria. The `count_keywords` function has a built-in text cleaning feature, eliminating the need for users to pre-clean their text. "
   ]
  },
  {
   "cell_type": "code",
   "execution_count": 18,
   "id": "cb5cfc5b-d8ed-4523-bfc3-42310946c81c",
   "metadata": {},
   "outputs": [
    {
     "data": {
      "text/plain": [
       "{'breathtaking': 2, 'exceptional': 3, \"city's\": 1}"
      ]
     },
     "execution_count": 18,
     "metadata": {},
     "output_type": "execute_result"
    }
   ],
   "source": [
    "count_keywords(raw_longer_review, \n",
    "               ['breathtaking', 'exceptional', 'city\\'s']\n",
    "              )"
   ]
  },
  {
   "cell_type": "markdown",
   "id": "2c508a71-1152-46f6-ae8f-a9964c3a7c2b",
   "metadata": {},
   "source": [
    "**Critical Remark**: by integrating all features in the `clean_text` function, the `count_keywords` function forces lower case and ignores punctuation. For instance, the word \"fully-equipped\" is treated as \"fullyequipped\". These rules apply to both the text and the specified keywords. In this instance, \"fullyequipped\" has a count of 1, despite its absence in the text as a literal word. "
   ]
  },
  {
   "cell_type": "code",
   "execution_count": 19,
   "id": "354d3932-50e3-4bb1-aa41-3a3cc7624dbe",
   "metadata": {},
   "outputs": [
    {
     "data": {
      "text/plain": [
       "{'fullyequipped': 1}"
      ]
     },
     "execution_count": 19,
     "metadata": {},
     "output_type": "execute_result"
    }
   ],
   "source": [
    "count_keywords(raw_longer_review, ['fullyequipped'])"
   ]
  },
  {
   "cell_type": "code",
   "execution_count": 20,
   "id": "1ca25b70-3e77-40cf-9a26-c4971297b665",
   "metadata": {},
   "outputs": [
    {
     "data": {
      "text/plain": [
       "{'fullyequipped': 1}"
      ]
     },
     "execution_count": 20,
     "metadata": {},
     "output_type": "execute_result"
    }
   ],
   "source": [
    "count_keywords(raw_longer_review, ['fully-equipped'])"
   ]
  },
  {
   "cell_type": "markdown",
   "id": "3ea08415-59a3-45c8-9db6-30012d095c57",
   "metadata": {},
   "source": [
    "**Robustness**: The `count_keywords` function is designed with robustness. Even if a user-defined keyword is accidentally repeated, capitalized, or entered with extra punctuation, the function resolves these variations and provides a singular count, which ensures the analysis is more resilient to user inputs."
   ]
  },
  {
   "cell_type": "code",
   "execution_count": 21,
   "id": "759cc4af-1b09-4906-95ac-8acde9c05740",
   "metadata": {},
   "outputs": [
    {
     "data": {
      "text/plain": [
       "{'cozy': 1}"
      ]
     },
     "execution_count": 21,
     "metadata": {},
     "output_type": "execute_result"
    }
   ],
   "source": [
    "count_keywords(raw_shorter_review, ['cozy'])"
   ]
  },
  {
   "cell_type": "code",
   "execution_count": 22,
   "id": "f8318bea-1ae6-493e-801c-321d2d5601a8",
   "metadata": {},
   "outputs": [
    {
     "data": {
      "text/plain": [
       "{'cozy': 1}"
      ]
     },
     "execution_count": 22,
     "metadata": {},
     "output_type": "execute_result"
    }
   ],
   "source": [
    "count_keywords(raw_shorter_review, ['cozy', 'cozy', 'Cozy', 'cozy!'])"
   ]
  },
  {
   "cell_type": "markdown",
   "id": "80194eca-f5b1-4bdc-b0ad-1c37a784e2f7",
   "metadata": {},
   "source": [
    "## Reference\n",
    "\n",
    "Loper, E., & Bird, S. (2002). Nltk: The natural language toolkit. arXiv preprint cs/0205028."
   ]
  }
 ],
 "metadata": {
  "kernelspec": {
   "display_name": "Python 3 (ipykernel)",
   "language": "python",
   "name": "python3"
  },
  "language_info": {
   "codemirror_mode": {
    "name": "ipython",
    "version": 3
   },
   "file_extension": ".py",
   "mimetype": "text/x-python",
   "name": "python",
   "nbconvert_exporter": "python",
   "pygments_lexer": "ipython3",
   "version": "3.9.18"
  }
 },
 "nbformat": 4,
 "nbformat_minor": 5
}
