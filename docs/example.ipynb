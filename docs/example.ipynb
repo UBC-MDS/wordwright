{
 "cells": [
  {
   "cell_type": "markdown",
   "metadata": {},
   "source": [
    "# Example usage\n",
    "\n",
    "## `count_keywords`\n",
    "\n",
    "This is a function that counts keywords in a text. The user gets to specify the keywords to look for and the text."
   ]
  },
  {
   "cell_type": "code",
   "execution_count": 7,
   "metadata": {},
   "outputs": [
    {
     "data": {
      "text/plain": [
       "{'breathtaking': 2, 'exceptional': 3, \"city's\": 1}"
      ]
     },
     "execution_count": 7,
     "metadata": {},
     "output_type": "execute_result"
    }
   ],
   "source": [
    "from wordwright.count_keywords import count_keywords\n",
    "\n",
    "# Long positive review of a city apartment\n",
    "review1 = \"Our stay at Skyline Plaza was truly exceptional. \" + \\\n",
    "          \"The apartment offered breathtaking views of the city skyline, \" + \\\n",
    "          \"making every morning a luxurious experience. \" + \\\n",
    "          \"Inside, modern amenities like a fully-equipped kitchen, \" + \\\n",
    "          \"high-speed internet, and a smart TV provided exceptional comfort. \" + \\\n",
    "          \"The spacious bedrooms, each with ultra-comfortable beds, \" + \\\n",
    "          \"ensured restful nights after exploring the city's breathtaking sights. \" + \\\n",
    "          \"Located at the heart of the city, the apartment's proximity to public transport, \" + \\\n",
    "          \"diverse restaurants, and shops was incredibly convenient. \" + \\\n",
    "          \"Our host was wonderfully accommodating, providing a detailed \" + \\\n",
    "          \"city guide and personal recommendations for dining with views of the skyline. \" + \\\n",
    "          \"For anyone seeking a mix of modern luxury and convenient city living, \" + \\\n",
    "          \"this apartment is a perfect choice. Its luxurious amenities and prime \" + \\\n",
    "          \"location make it a standout choice for an exceptional city experience.\"\n",
    "\n",
    "# Short positive review of a cozy cottage\n",
    "review2 = \"Cozy Cottage was a quiet, charming escape from the busy city life. \" + \\\n",
    "          \"The garden was delightful, and the location was quiet yet convenient. \" + \\\n",
    "          \"A perfect weekend getaway! Highly recommend!\"\n",
    "\n",
    "# A medium length negative review \n",
    "review3 = \"Although the location nestled right in the heart of the city, \" + \\\n",
    "          \"our stay was marred by disappointment. The first sign of trouble \" + \\\n",
    "          \"was the linens; they had a strange, unpleasant smell, as if they \" + \\\n",
    "          \"hadn't been washed. The bathroom, too, has a strange odor that made \" + \\\n",
    "          \"it feel unclean and unpleasant. Overall, the lack of cleanliness cast \" + \\\n",
    "          \"a shadow over our visit, turning our stay into an unpleasant experience. \" + \\\n",
    "          \"The location, unfortunately, couldn't make up for these  disappointing aspects.\"\n",
    "\n",
    "count_keywords(review1, ['breathtaking', 'exceptional', 'city\\'s'])"
   ]
  },
  {
   "cell_type": "markdown",
   "metadata": {},
   "source": [
    "The function counts these words correctly. Moreover, notice that it forces lower case and ignores punctuation, with the exception of the apostrophes used for sentence contraption. This is because our function first preprocesses the text and the keywords by forcing lower case and removing all punctuation except for the apostrophes when evaluating word counts. This includes cases where a hyphen is used to join two words (ex: fully-equipped is treated as fullyequipped). These rules extend to both the text and the keywords:"
   ]
  },
  {
   "cell_type": "code",
   "execution_count": 10,
   "metadata": {},
   "outputs": [
    {
     "data": {
      "text/plain": [
       "{'fullyequipped': 1}"
      ]
     },
     "execution_count": 10,
     "metadata": {},
     "output_type": "execute_result"
    }
   ],
   "source": [
    "count_keywords(review1, ['fullyequipped'])"
   ]
  },
  {
   "cell_type": "markdown",
   "metadata": {},
   "source": [
    "Here we see that the word \"fullyequipped\" has a count of 1, even though in the text there is no literal word \"fullyequipped\". This is the result of the preprocessing taken before evaluating word counts, which leads to the removal of the character \"-\" connecting the words \"fully\" and \"equipped\". \n",
    "\n",
    "Sometimes an user may put in the same word in the keyword list multiple times on accident or by intention. In the output, the count for that word only appears once."
   ]
  },
  {
   "cell_type": "code",
   "execution_count": 11,
   "metadata": {},
   "outputs": [
    {
     "data": {
      "text/plain": [
       "{'cozy': 1}"
      ]
     },
     "execution_count": 11,
     "metadata": {},
     "output_type": "execute_result"
    }
   ],
   "source": [
    "review2\n",
    "count_keywords(review2, ['cozy'])"
   ]
  },
  {
   "cell_type": "code",
   "execution_count": 12,
   "metadata": {},
   "outputs": [
    {
     "data": {
      "text/plain": [
       "{'cozy': 1}"
      ]
     },
     "execution_count": 12,
     "metadata": {},
     "output_type": "execute_result"
    }
   ],
   "source": [
    "review2\n",
    "count_keywords(review2, ['cozy', 'cozy', 'Cozy', 'cozy!'])"
   ]
  },
  {
   "cell_type": "markdown",
   "metadata": {},
   "source": [
    "Notice that punctuation and case do not make a new word. The preprocessing applied to the keywords would map all of them onto the vanilla version of the word."
   ]
  }
 ],
 "metadata": {
  "kernelspec": {
   "display_name": "Python [conda env:573]",
   "language": "python",
   "name": "conda-env-573-py"
  },
  "language_info": {
   "codemirror_mode": {
    "name": "ipython",
    "version": 3
   },
   "file_extension": ".py",
   "mimetype": "text/x-python",
   "name": "python",
   "nbconvert_exporter": "python",
   "pygments_lexer": "ipython3",
   "version": "3.11.6"
  }
 },
 "nbformat": 4,
 "nbformat_minor": 4
}
