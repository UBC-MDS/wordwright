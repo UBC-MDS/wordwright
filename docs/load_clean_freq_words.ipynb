{
 "cells": [
  {
   "cell_type": "markdown",
   "id": "bf4b8070-4864-488d-8e90-a70b1dce7076",
   "metadata": {},
   "source": [
    "## Introduction\n",
    "The `wordwright` package is a useful tool for textual data analysis, perfect for extracting insights from reviews, feedback, or any written content. In this vignette, we demonstrate how `wordwright` can be used to analyze Airbnb reviews, providing a clear path from raw text to insightful data. Whether you are a data scientist, a student, or just someone curious about text analytics, `wordwright` provides intuitive functions to transform raw text into actionable data.\n",
    "\n",
    "## Getting Started with Text Files\n",
    "Before our analysis, we need to compose several customer reviews and save them as text files for processing."
   ]
  },
  {
   "cell_type": "code",
   "execution_count": 28,
   "id": "19d96b56-636d-42b9-b23a-5693e7b1b877",
   "metadata": {},
   "outputs": [],
   "source": [
    "# Long positive review of a city apartment\n",
    "review1 = \"Our stay at Skyline Plaza was truly exceptional. The apartment offered breathtaking views of the city skyline, making every morning a luxurious experience. Inside, modern amenities like a fully-equipped kitchen, high-speed internet, and a smart TV provided exceptional comfort. The spacious bedrooms, each with ultra-comfortable beds, ensured restful nights after exploring the city's breathtaking sights. Located at the heart of the city, the apartment's proximity to public transport, diverse restaurants, and shops was incredibly convenient. Our host was wonderfully accommodating, providing a detailed city guide and personal recommendations for dining with views of the skyline. For anyone seeking a mix of modern luxury and convenient city living, this apartment is a perfect choice. Its luxurious amenities and prime location make it a standout choice for an exceptional city experience.\"\n",
    "\n",
    "# Short positive review of a cozy cottage\n",
    "review2 = \"Cozy Cottage was a quiet, charming escape from the busy city life. The garden was delightful, and the location was quiet yet convenient. A perfect weekend getaway! Highly recommend!\"\n",
    "\n",
    "# A medium length negative review \n",
    "review3 = \"Although the location nestled right in the heart of the city, our stay was marred by disappointment. The first sign of trouble was the linens; they had a strange, unpleasant smell, as if they hadn't been washed. The bathroom, too, has a strange odor that made it feel unclean and unpleasant. Overall, the lack of cleanliness cast a shadow over our visit, turning our stay into an unpleasant experience. The location, unfortunately, couldn't make up for these  disappointing aspects.\"\n",
    "\n",
    "# Writing the reviews to text files\n",
    "filenames = [\"long_pos_review.txt\", \n",
    "             \"short_pos_review.txt\", \n",
    "             \"medium_neg_review.txt\"]\n",
    "reviews = [review1, review2, review3]\n",
    "\n",
    "for filename, review in zip(filenames, reviews):\n",
    "    with open(filename, \"w\") as file:\n",
    "        file.write(review)"
   ]
  },
  {
   "cell_type": "markdown",
   "id": "73b2faad-f1b5-4139-befb-d9b513dee477",
   "metadata": {},
   "source": [
    "Now that we have our text files, let's dive into each function and see how it contributes to our text analysis workflow."
   ]
  },
  {
   "cell_type": "markdown",
   "id": "9434195f-885a-4f62-b45f-6f42cc2075ad",
   "metadata": {},
   "source": [
    "## Loading Text Data\n",
    "The `load_text` function reads the content of a text file without altering it. For our Airbnb reviews, we have three different text files containing reviews of varying lengths and details. We'll load each one and prepare them for cleaning."
   ]
  },
  {
   "cell_type": "code",
   "execution_count": 43,
   "id": "adae12f0-ebf5-4e8e-b4ee-fe102011b941",
   "metadata": {},
   "outputs": [
    {
     "name": "stdout",
     "output_type": "stream",
     "text": [
      "Our stay at Skyline Plaza was truly exceptional. The apartment offered breathtaking views of the city skyline, making every morning a luxurious experience. Inside, modern amenities like a fully-equipped kitchen, high-speed internet, and a smart TV provided exceptional comfort. The spacious bedrooms, each with ultra-comfortable beds, ensured restful nights after exploring the city's breathtaking sights. Located at the heart of the city, the apartment's proximity to public transport, diverse restaurants, and shops was incredibly convenient. Our host was wonderfully accommodating, providing a detailed city guide and personal recommendations for dining with views of the skyline. For anyone seeking a mix of modern luxury and convenient city living, this apartment is a perfect choice. Its luxurious amenities and prime location make it a standout choice for an exceptional city experience.\n"
     ]
    }
   ],
   "source": [
    "from wordwright.preprocessing import load_text\n",
    "raw_long_pos_review = load_text(\"long_pos_review.txt\")\n",
    "print(raw_long_pos_review)"
   ]
  },
  {
   "cell_type": "code",
   "execution_count": 44,
   "id": "bea63b8a-35b5-47c4-ac61-0582efa1c3aa",
   "metadata": {},
   "outputs": [
    {
     "name": "stdout",
     "output_type": "stream",
     "text": [
      "Cozy Cottage was a quiet, charming escape from the busy city life. The garden was delightful, and the location was quiet yet convenient. A perfect weekend getaway! Highly recommend!\n"
     ]
    }
   ],
   "source": [
    "raw_short_pos_review = load_text(\"short_pos_review.txt\")\n",
    "print(raw_short_pos_review)"
   ]
  },
  {
   "cell_type": "code",
   "execution_count": 45,
   "id": "7b9f8fde-af62-4567-a75b-9d3863d81d10",
   "metadata": {},
   "outputs": [
    {
     "name": "stdout",
     "output_type": "stream",
     "text": [
      "Although the location nestled right in the heart of the city, our stay was marred by disappointment. The first sign of trouble was the linens; they had a strange, unpleasant smell, as if they hadn't been washed. The bathroom, too, has a strange odor that made it feel unclean and unpleasant. Overall, the lack of cleanliness cast a shadow over our visit, turning our stay into an unpleasant experience. The location, unfortunately, couldn't make up for these  disappointing aspects.\n"
     ]
    }
   ],
   "source": [
    "raw_medium_neg_review = load_text(\"medium_neg_review.txt\")\n",
    "print(raw_medium_neg_review)"
   ]
  },
  {
   "cell_type": "markdown",
   "id": "43f72327-b1d9-4309-a411-75af336ee3a5",
   "metadata": {},
   "source": [
    "## Cleaning the Text\n",
    "The `clean_text` function removes all punctuations and whitespaces and makes all words lowercase, which ensures text uniform and easier to analyze, especially for word counting and searching (as shown in later sections). Using this function, we ensure our analysis is not skewed by formatting inconsistencies."
   ]
  },
  {
   "cell_type": "code",
   "execution_count": 46,
   "id": "9e796ee2-1cae-4cb2-9432-89b10e9452c4",
   "metadata": {},
   "outputs": [],
   "source": [
    "from wordwright.preprocessing import clean_text"
   ]
  },
  {
   "cell_type": "code",
   "execution_count": 48,
   "id": "3ba7f0bc-f34a-48f1-8107-5b54e0dcef93",
   "metadata": {},
   "outputs": [
    {
     "name": "stdout",
     "output_type": "stream",
     "text": [
      "cozy cottage was a quiet charming escape from the busy city life the garden was delightful and the location was quiet yet convenient a perfect weekend getaway highly recommend\n"
     ]
    }
   ],
   "source": [
    "cleaned_short_pos_review = clean_text(raw_short_pos_review)\n",
    "print(cleaned_short_pos_review)"
   ]
  },
  {
   "cell_type": "markdown",
   "id": "ce017743-93b4-4498-a244-605de4d2e6a0",
   "metadata": {},
   "source": [
    "Now let's clean the other two pieces of reviews. Note that in the reviews shown below, we also take care to preserve the nuances of the English language. For example, apostrophes that are part of contractions or possessive forms—like in \"hadn't\" or \"city's\"—are maintained. By doing so, our analysis respects the linguistic integrity and retains the text's original meaning."
   ]
  },
  {
   "cell_type": "code",
   "execution_count": 49,
   "id": "5e6a1d53-a123-422c-a2c6-ceaa055ac9f0",
   "metadata": {},
   "outputs": [
    {
     "name": "stdout",
     "output_type": "stream",
     "text": [
      "our stay at skyline plaza was truly exceptional the apartment offered breathtaking views of the city skyline making every morning a luxurious experience inside modern amenities like a fullyequipped kitchen highspeed internet and a smart tv provided exceptional comfort the spacious bedrooms each with ultracomfortable beds ensured restful nights after exploring the city's breathtaking sights located at the heart of the city the apartment's proximity to public transport diverse restaurants and shops was incredibly convenient our host was wonderfully accommodating providing a detailed city guide and personal recommendations for dining with views of the skyline for anyone seeking a mix of modern luxury and convenient city living this apartment is a perfect choice its luxurious amenities and prime location make it a standout choice for an exceptional city experience\n"
     ]
    }
   ],
   "source": [
    "cleaned_long_pos_review = clean_text(raw_long_pos_review)\n",
    "print(cleaned_long_pos_review)"
   ]
  },
  {
   "cell_type": "code",
   "execution_count": 50,
   "id": "a60dccfa-b5e5-4cb3-b88b-0d8883f92319",
   "metadata": {},
   "outputs": [
    {
     "name": "stdout",
     "output_type": "stream",
     "text": [
      "although the location nestled right in the heart of the city our stay was marred by disappointment the first sign of trouble was the linens they had a strange unpleasant smell as if they hadn't been washed the bathroom too has a strange odor that made it feel unclean and unpleasant overall the lack of cleanliness cast a shadow over our visit turning our stay into an unpleasant experience the location unfortunately couldn't make up for these disappointing aspects\n"
     ]
    }
   ],
   "source": [
    "cleaned_medium_neg_review = clean_text(raw_medium_neg_review)\n",
    "print(cleaned_medium_neg_review)"
   ]
  },
  {
   "cell_type": "markdown",
   "id": "f17da206-e133-46d6-9d4b-ba0bf4370d08",
   "metadata": {},
   "source": [
    "## Analyzing Word Frequency\n",
    "\n",
    "### Integrated Text Cleaning\n",
    "The `frequent_words` function has incorporated text cleaning within its process. This means that users don't need to separately clean their text with the `clean_text` function before analysis; `frequent_words` will handle both cleaning and word frequency analysis in one step. Specifically, the `frequent_words` count the occurrences of each unique word."
   ]
  },
  {
   "cell_type": "code",
   "execution_count": 52,
   "id": "e3ea3867-0b34-48d7-9bca-e9ad0a687c64",
   "metadata": {},
   "outputs": [
    {
     "data": {
      "text/plain": [
       "Counter({'was': 3,\n",
       "         'the': 3,\n",
       "         'a': 2,\n",
       "         'quiet': 2,\n",
       "         'cozy': 1,\n",
       "         'cottage': 1,\n",
       "         'charming': 1,\n",
       "         'escape': 1,\n",
       "         'from': 1,\n",
       "         'busy': 1,\n",
       "         'city': 1,\n",
       "         'life': 1,\n",
       "         'garden': 1,\n",
       "         'delightful': 1,\n",
       "         'and': 1,\n",
       "         'location': 1,\n",
       "         'yet': 1,\n",
       "         'convenient': 1,\n",
       "         'perfect': 1,\n",
       "         'weekend': 1,\n",
       "         'getaway': 1,\n",
       "         'highly': 1,\n",
       "         'recommend': 1})"
      ]
     },
     "execution_count": 52,
     "metadata": {},
     "output_type": "execute_result"
    }
   ],
   "source": [
    "from wordwright.word_frequency import frequent_words\n",
    "frequent_words(raw_short_pos_review)"
   ]
  },
  {
   "cell_type": "markdown",
   "id": "266f1a3c-76eb-4fbb-8fb4-03cee58e027d",
   "metadata": {},
   "source": [
    "### Stopwords Filtering\n",
    "In text analysis, the frequency of words can reveal a lot about the content. However, not all words carry the same weight in conveying meaning. This is where the `frequent_words` function of the wordwright package becomes particularly valuable.\n",
    "\n",
    "**User-defined Stopwords List**  \n",
    "Stopwords are commonly used words in any language, like \"the,\" \"is,\" and \"in,\" which may not add significant meaning. The `frequent_words` function, allowing for removing user-defined stopwords, can focus on the more meaningful words that could provide insights into the text."
   ]
  },
  {
   "cell_type": "code",
   "execution_count": 62,
   "id": "63beee5d-5076-41ae-a8fa-7de902c06f43",
   "metadata": {},
   "outputs": [
    {
     "data": {
      "text/plain": [
       "Counter({'quiet': 2,\n",
       "         'cozy': 1,\n",
       "         'cottage': 1,\n",
       "         'charming': 1,\n",
       "         'escape': 1,\n",
       "         'busy': 1,\n",
       "         'city': 1,\n",
       "         'life': 1,\n",
       "         'garden': 1,\n",
       "         'delightful': 1,\n",
       "         'location': 1,\n",
       "         'convenient': 1,\n",
       "         'perfect': 1,\n",
       "         'weekend': 1,\n",
       "         'getaway': 1,\n",
       "         'highly': 1,\n",
       "         'recommend': 1})"
      ]
     },
     "execution_count": 62,
     "metadata": {},
     "output_type": "execute_result"
    }
   ],
   "source": [
    "user_stopwords = [\"the\", \"a\", \"is\", \"was\", \"and\", \"yet\", \"but\", \n",
    "                  \"from\", \"to\", \"in\" \"at\", \"on\"]\n",
    "frequent_words(raw_short_pos_review, stopwords=user_stopwords)"
   ]
  },
  {
   "cell_type": "markdown",
   "id": "f192a647-f45f-4778-9ac2-51dba6095a83",
   "metadata": {},
   "source": [
    "**Leveraging NLTK's Comprehensive Stopwords List**  \n",
    "For a more thorough cleaning of our text data, we can utilize the Natural Language Toolkit (NLTK), a leading package to work with human language data (see details [here](https://www.nltk.org/)). NLTK provides an extensive list of stopwords commonly used in the English language."
   ]
  },
  {
   "cell_type": "code",
   "execution_count": 60,
   "id": "129c2064-ad63-400c-a3b0-63fd5796b376",
   "metadata": {},
   "outputs": [],
   "source": [
    "import nltk\n",
    "from nltk.corpus import stopwords\n",
    "nltk.download('stopwords', quiet=True)\n",
    "nltk_stopwords = stopwords.words('english')"
   ]
  },
  {
   "cell_type": "code",
   "execution_count": 61,
   "id": "3a2fa50d-c7a4-4c03-a13e-ea43fc91329f",
   "metadata": {},
   "outputs": [
    {
     "data": {
      "text/plain": [
       "Counter({'quiet': 2,\n",
       "         'cozy': 1,\n",
       "         'cottage': 1,\n",
       "         'charming': 1,\n",
       "         'escape': 1,\n",
       "         'busy': 1,\n",
       "         'city': 1,\n",
       "         'life': 1,\n",
       "         'garden': 1,\n",
       "         'delightful': 1,\n",
       "         'location': 1,\n",
       "         'yet': 1,\n",
       "         'convenient': 1,\n",
       "         'perfect': 1,\n",
       "         'weekend': 1,\n",
       "         'getaway': 1,\n",
       "         'highly': 1,\n",
       "         'recommend': 1})"
      ]
     },
     "execution_count": 61,
     "metadata": {},
     "output_type": "execute_result"
    }
   ],
   "source": [
    "frequent_words(raw_short_pos_review, stopwords=nltk_stopwords)"
   ]
  },
  {
   "cell_type": "markdown",
   "id": "d7de4010-9830-4ed5-a612-63dc84060273",
   "metadata": {},
   "source": [
    "**Extending and Customizing Stopwords List**   \n",
    "In scenarios where the default NLTK stopwords may not be sufficient for analysis in depth, users can extend the NLTK stopwords list with their own set of words."
   ]
  },
  {
   "cell_type": "code",
   "execution_count": 67,
   "id": "ce127457-1159-4e04-8e65-32965acbf8d2",
   "metadata": {},
   "outputs": [
    {
     "data": {
      "text/plain": [
       "Counter({'quiet': 2,\n",
       "         'cozy': 1,\n",
       "         'cottage': 1,\n",
       "         'charming': 1,\n",
       "         'escape': 1,\n",
       "         'busy': 1,\n",
       "         'garden': 1,\n",
       "         'delightful': 1,\n",
       "         'yet': 1,\n",
       "         'convenient': 1,\n",
       "         'perfect': 1,\n",
       "         'getaway': 1,\n",
       "         'highly': 1,\n",
       "         'recommend': 1})"
      ]
     },
     "execution_count": 67,
     "metadata": {},
     "output_type": "execute_result"
    }
   ],
   "source": [
    "# Start with the default NLTK stopwords\n",
    "custom_stopwords = set(nltk_stopwords)\n",
    "\n",
    "# Define additional stopwords that are irrelevant to the analysis\n",
    "additional_stopwords = {'weekend', 'location', 'weekend', 'life', 'city'}\n",
    "\n",
    "# Combine the default stopwords with the additional ones\n",
    "custom_stopwords.update(additional_stopwords)\n",
    "\n",
    "# Ensure that the custom stopwords list is unique\n",
    "custom_stopwords = list(set(custom_stopwords))\n",
    "\n",
    "# Display the most common words excluding the customized stopwords\n",
    "frequent_words(raw_short_pos_review, stopwords=custom_stopwords)"
   ]
  },
  {
   "cell_type": "markdown",
   "id": "0c80e6ee-d328-47fd-91a8-a3f38356b4e8",
   "metadata": {},
   "source": [
    "### Displaying Most Frequent words\n",
    "The output of the `frequent_words` function is a `Counter` object (see details of `Counter` [here](https://docs.python.org/3/library/collections.html#collections.Counter)), a specialized dictionary from Python's collections module designed for counting hashable objects.\n",
    "One useful method available on a Counter object is `most_common()`(see details of the function [here](https://docs.python.org/3/library/collections.html#collections.Counter.most_common)). This method allows quickly identifying the most frequently occurring items and their counts as a `list`. You can also specify a number to return the top N most frequent words.\n",
    "\n",
    "This method is particularly handy when dealing with large texts and you want to focus on the most relevant words, such as identifying key themes in customer reviews or the most mentioned terms."
   ]
  },
  {
   "cell_type": "code",
   "execution_count": 73,
   "id": "f85b20bd-ec9c-47f7-8041-ba43fd1b22df",
   "metadata": {},
   "outputs": [
    {
     "data": {
      "text/plain": [
       "[('city', 5),\n",
       " ('skyline', 3),\n",
       " ('exceptional', 3),\n",
       " ('apartment', 2),\n",
       " ('breathtaking', 2),\n",
       " ('views', 2),\n",
       " ('luxurious', 2),\n",
       " ('experience', 2),\n",
       " ('modern', 2),\n",
       " ('amenities', 2)]"
      ]
     },
     "execution_count": 73,
     "metadata": {},
     "output_type": "execute_result"
    }
   ],
   "source": [
    "top_10_long_pos_review = frequent_words(raw_long_pos_review, \n",
    "                                        stopwords=nltk_stopwords\n",
    "                                       ).most_common(10)\n",
    "top_10_long_pos_review"
   ]
  },
  {
   "cell_type": "code",
   "execution_count": 75,
   "id": "c2ac49c7-48b6-4a10-abd7-cdfda2bb4cc1",
   "metadata": {},
   "outputs": [
    {
     "data": {
      "text/plain": [
       "[('quiet', 2), ('cozy', 1), ('cottage', 1)]"
      ]
     },
     "execution_count": 75,
     "metadata": {},
     "output_type": "execute_result"
    }
   ],
   "source": [
    "top_3_short_pos_review = frequent_words(raw_short_pos_review, \n",
    "                                        stopwords=nltk_stopwords\n",
    "                                       ).most_common(3)\n",
    "top_3_short_pos_review"
   ]
  },
  {
   "cell_type": "code",
   "execution_count": 77,
   "id": "cb0f313d-ca7d-4d31-adc7-4cf983b8c515",
   "metadata": {},
   "outputs": [
    {
     "data": {
      "text/plain": [
       "[('unpleasant', 3),\n",
       " ('location', 2),\n",
       " ('stay', 2),\n",
       " ('strange', 2),\n",
       " ('although', 1)]"
      ]
     },
     "execution_count": 77,
     "metadata": {},
     "output_type": "execute_result"
    }
   ],
   "source": [
    "top_5_medium_neg_review = frequent_words(raw_medium_neg_review, \n",
    "                                         stopwords=nltk_stopwords\n",
    "                                        ).most_common(5)\n",
    "top_5_medium_neg_review"
   ]
  }
 ],
 "metadata": {
  "kernelspec": {
   "display_name": "Python 3 (ipykernel)",
   "language": "python",
   "name": "python3"
  },
  "language_info": {
   "codemirror_mode": {
    "name": "ipython",
    "version": 3
   },
   "file_extension": ".py",
   "mimetype": "text/x-python",
   "name": "python",
   "nbconvert_exporter": "python",
   "pygments_lexer": "ipython3",
   "version": "3.9.18"
  }
 },
 "nbformat": 4,
 "nbformat_minor": 5
}
