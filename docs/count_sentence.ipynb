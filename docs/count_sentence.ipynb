{
 "cells": [
  {
   "cell_type": "markdown",
   "metadata": {},
   "source": [
    "# Wordwright\n",
    "\n",
    "## Motivation\n",
    "In today's world, text is omnipresent, which is more than just a form of communication. From the briefest tweets to in-depth blog posts, from academic papers to business emails, this digital landscape is full of textual content. In such a text-saturated environment, the ability to read, analyze and derive meaning from written content is essential and meaningful. This is where our comprehensive text analysis package `wordwright` enters the picture. It's not only a text-processing tool, it's a bridge to understanding the world from overwhelmed text. Our package empowers various professionals by meeting their demands through cleaning unrelevant puncatuations, calculating the number of identified keywords and sentences, detecting the paragraph language, and ranking the word frequency. Potential users such as marketers, journalists, educators and healthcare professionals could be beneficial from this package. \n"
   ]
  },
  {
   "cell_type": "markdown",
   "metadata": {},
   "source": [
    "## Count sentences\n",
    "\n",
    "We can count the number of sentences in a given text. This function is particularly useful to understand the text structure in readability assessments, summarization tasks, or content analysis to prepare for a more in-depth text analysis. It can accurately identify sentence boundaries, which can vary with periods, exclamation marks, question marks, or other punctuation used to denote the end of a sentence. User could identify specific punctuations which use to seperate each sentence and thus calculate the total number of sentences. \n",
    "\n",
    "### Example Usage\n",
    "Given the context in healthcare domain, patients submit their sympton descriptions via an online clinical system to provide healthcare professionals first-hand information about their health concerns before they arriving the clinic. "
   ]
  },
  {
   "cell_type": "code",
   "execution_count": 11,
   "metadata": {},
   "outputs": [],
   "source": [
    "from wordwright.count_sentences import count_sentences"
   ]
  },
  {
   "cell_type": "code",
   "execution_count": 12,
   "metadata": {},
   "outputs": [],
   "source": [
    "patient_a_desc = \"\"\"I've been experiencing a range of discomforting symptoms that have raised my concerns. \n",
    "It started about a week ago with a mild fever, fluctuating around 39.5, accompanied by a persistent cough that worsens at night. \n",
    "The cough is mostly dry, but occasionally it’s accompanied by a slight wheeze. \n",
    "I haven’t noticed any significant changes in my breathing pattern, though. In addition to these symptoms,\n",
    "I've felt a general sense of fatigue and a lack of energy, which has been making my daily activities quite challenging.\"\"\""
   ]
  },
  {
   "cell_type": "code",
   "execution_count": 13,
   "metadata": {},
   "outputs": [],
   "source": [
    "patient_b_desc = \"\"\"Recently, I have been feeling overwhelmingly stressed due to personal and work-related issues. \n",
    "I can not sleep well due to This constant state of worry and anxiety. Despite feeling exhausted, \n",
    "I find myself lying awake most nights, unable to fall asleep. Even when sleep does come, it's often shallow and interrupted, \n",
    "leaving me feeling even more tired the next day. My mind seems to be in a constant whirl, replaying my day's events and the \n",
    "various challenges I face, making it impossible to relax. i dont have a good appetite\n",
    "during the day. I have tried some sleep aids yet, but I'm wary of becoming reliant on them. In the past, I've managed stress with exercise, \n",
    "but lately, I've been too fatigued to maintain my usual routine. This lack of sleep and high stress level is affecting both my professional \n",
    "performance and personal life, and I'm becoming increasingly concerned about my overall well-being.\"\"\""
   ]
  },
  {
   "cell_type": "code",
   "execution_count": 14,
   "metadata": {},
   "outputs": [
    {
     "name": "stdout",
     "output_type": "stream",
     "text": [
      "There are 6 sentence(s), which is splited by ['.'].\n"
     ]
    }
   ],
   "source": [
    "patient_a = count_sentences(patient_a_desc, [\".\"]) #seperate each sentence using period"
   ]
  },
  {
   "cell_type": "code",
   "execution_count": 15,
   "metadata": {},
   "outputs": [
    {
     "name": "stdout",
     "output_type": "stream",
     "text": [
      "There are 9 sentence(s), which is splited by ['.'].\n"
     ]
    }
   ],
   "source": [
    "patient_a = count_sentences(patient_b_desc, [\".\"]) #seperate each sentence using period"
   ]
  },
  {
   "cell_type": "markdown",
   "metadata": {},
   "source": [
    "From the result, we could conclude that patient A wrote six sentences in the sympton description, and patient B wrote nine sentences. We may infer that patient B describe her symptons more clearly, and there is more first-hand information that a healthcare professionals could receive about their patients."
   ]
  },
  {
   "cell_type": "code",
   "execution_count": null,
   "metadata": {},
   "outputs": [],
   "source": []
  }
 ],
 "metadata": {
  "kernelspec": {
   "display_name": "Python 3 (ipykernel)",
   "language": "python",
   "name": "python3"
  },
  "language_info": {
   "codemirror_mode": {
    "name": "ipython",
    "version": 3
   },
   "file_extension": ".py",
   "mimetype": "text/x-python",
   "name": "python",
   "nbconvert_exporter": "python",
   "pygments_lexer": "ipython3",
   "version": "3.9.18"
  }
 },
 "nbformat": 4,
 "nbformat_minor": 4
}
