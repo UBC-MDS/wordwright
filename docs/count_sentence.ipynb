{
 "cells": [
  {
   "cell_type": "markdown",
   "metadata": {},
   "source": [
    "# Wordwright Tutorial\n",
    "\n",
    "## Motivation\n",
    "In today's world, text is omnipresent, which is more than just a form of communication. From the briefest tweets to in-depth blog posts, from academic papers to business emails, this digital landscape is full of textual content. In such a text-saturated environment, the ability to read, analyze and derive meaning from written content is essential and meaningful. This is where our comprehensive text analysis package `wordwright` enters the picture. It's not only a text-processing tool, it's a bridge to understanding the world from overwhelmed text. Our package empowers various professionals by meeting their demands through cleaning unrelevant puncatuations, calculating the number of identified keywords and sentences, detecting the paragraph language, and ranking the word frequency. Potential users such as marketers, journalists, educators and healthcare professionals could be beneficial from this package. \n"
   ]
  },
  {
   "cell_type": "markdown",
   "metadata": {},
   "source": [
    "## Count sentences\n",
    "\n",
    "We can count the number of sentences in a given text. This function is particularly useful to understand the text structure in readability assessments, summarization tasks, or content analysis to prepare for a more in-depth text analysis. It can accurately identify sentence boundaries, which can vary with periods, exclamation marks, question marks, or other punctuation used to denote the end of a sentence. User could identify specific punctuations which use to seperate each sentence and thus calculate the total number of sentences. \n",
    "\n",
    "### Example Usage\n",
    "Given the context in vacation rentals such as Airbnb, after each visit, users will take the time to submit a review to assist hosts in improving their accommodations and service as a valuable part of the community ecosystem. These reviews can highlight the unique features of a stay that may not be apparent from the description, such as the comfort of the bedding or even local tips that made your stay special. \n",
    "\n",
    "Counting sentences about customer reviews can provide a quick and quantifiable measure of user satisfaction, facilitate data-driven insights and enhance the analysis and presentation of textual review data.\n"
   ]
  },
  {
   "cell_type": "code",
   "execution_count": 11,
   "metadata": {},
   "outputs": [],
   "source": [
    "from wordwright.count_sentences import count_sentences"
   ]
  },
  {
   "cell_type": "code",
   "execution_count": 14,
   "metadata": {},
   "outputs": [
    {
     "name": "stdout",
     "output_type": "stream",
     "text": [
      "There are 6 sentence(s), which is splited by ['.'].\n"
     ]
    }
   ],
   "source": [
    "customer_1 = count_sentences(raw_long_pos_review, [\".\", \"!\"]) #seperate each sentence using period and exclamation mark"
   ]
  },
  {
   "cell_type": "code",
   "execution_count": 15,
   "metadata": {},
   "outputs": [
    {
     "name": "stdout",
     "output_type": "stream",
     "text": [
      "There are 9 sentence(s), which is splited by ['.'].\n"
     ]
    }
   ],
   "source": [
    "customer_2 = count_sentences(raw_short_pos_review, [\".\", \"!\"]) #seperate each sentence using period and exclamation mark"
   ]
  },
  {
   "cell_type": "code",
   "execution_count": null,
   "metadata": {},
   "outputs": [],
   "source": [
    "customer_3 = count_sentences(raw_medium_pos_review, [\".\"]) #seperate each sentence using period"
   ]
  },
  {
   "cell_type": "markdown",
   "metadata": {},
   "source": [
    "From the result, we could conclude that patient A wrote six sentences in the sympton description, and patient B wrote nine sentences. We may infer that patient B describe her symptons more clearly, and there is more first-hand information that a healthcare professionals could receive about their patients."
   ]
  },
  {
   "cell_type": "code",
   "execution_count": null,
   "metadata": {},
   "outputs": [],
   "source": []
  }
 ],
 "metadata": {
  "kernelspec": {
   "display_name": "Python 3 (ipykernel)",
   "language": "python",
   "name": "python3"
  },
  "language_info": {
   "codemirror_mode": {
    "name": "ipython",
    "version": 3
   },
   "file_extension": ".py",
   "mimetype": "text/x-python",
   "name": "python",
   "nbconvert_exporter": "python",
   "pygments_lexer": "ipython3",
   "version": "3.9.18"
  }
 },
 "nbformat": 4,
 "nbformat_minor": 4
}
