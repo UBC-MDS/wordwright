{
 "cells": [
  {
   "cell_type": "markdown",
   "id": "71c2c1a8-6858-41e0-9b4d-2dea01c5b885",
   "metadata": {},
   "source": [
    "## Language Detection\n",
    "\n",
    "### Detection Language Used in Test\n",
    "The language_detection function is designed to identify whether a given text is written in English. It accepts a string as input and analyzes the text to determine its language. The function returns \"English\" if it detects that the text is in English, \"Not English\" for any other language, and \"Language detection error\" if it encounters an error during the detection process.\n"
   ]
  },
  {
   "cell_type": "markdown",
   "id": "fffa03ee-593e-4931-98f9-7968cb5d56c1",
   "metadata": {},
   "source": [
    "For example, this method is used to detect review in English."
   ]
  },
  {
   "cell_type": "code",
   "execution_count": 4,
   "id": "07d0b4f8-7a20-49d7-9ea3-7a0a8878af81",
   "metadata": {},
   "outputs": [
    {
     "data": {
      "text/plain": [
       "'English'"
      ]
     },
     "execution_count": 4,
     "metadata": {},
     "output_type": "execute_result"
    }
   ],
   "source": [
    "from langdetect import detect, LangDetectException\n",
    "from wordwright.language_detection import language_detection \n",
    "\n",
    "review4 = \"\"\"\n",
    "The stay was delightful with impeccable service, a cozy atmosphere, \n",
    "and a prime location that exceeded all expectations. A truly memorable experience!\n",
    "\"\"\"\n",
    "\n",
    "language_detection(review4)\n"
   ]
  },
  {
   "cell_type": "markdown",
   "id": "f2109e31-60c6-47ba-b18d-6f429529c481",
   "metadata": {},
   "source": [
    "Detect a text not in English, take Spanish as an example, the function will return \"Not English\""
   ]
  },
  {
   "cell_type": "code",
   "execution_count": 5,
   "id": "485a99ab-8328-4b46-b97b-731a7fb6d666",
   "metadata": {},
   "outputs": [
    {
     "data": {
      "text/plain": [
       "'Not English'"
      ]
     },
     "execution_count": 5,
     "metadata": {},
     "output_type": "execute_result"
    }
   ],
   "source": [
    "review5 = \"\"\"\n",
    "La estancia fue encantadora, con un servicio impecable, \n",
    "un ambiente acogedor y una ubicación privilegiada que superó todas las expectativas. \n",
    "¡Una experiencia verdaderamente memorable!\n",
    "\"\"\"\n",
    "\n",
    "language_detection(review5)"
   ]
  },
  {
   "cell_type": "code",
   "execution_count": null,
   "id": "663f27a7-de25-44a1-bc54-3271f5a5c1f9",
   "metadata": {},
   "outputs": [],
   "source": []
  }
 ],
 "metadata": {
  "kernelspec": {
   "display_name": "Python [conda env:524]",
   "language": "python",
   "name": "conda-env-524-py"
  },
  "language_info": {
   "codemirror_mode": {
    "name": "ipython",
    "version": 3
   },
   "file_extension": ".py",
   "mimetype": "text/x-python",
   "name": "python",
   "nbconvert_exporter": "python",
   "pygments_lexer": "ipython3",
   "version": "3.9.18"
  }
 },
 "nbformat": 4,
 "nbformat_minor": 5
}
